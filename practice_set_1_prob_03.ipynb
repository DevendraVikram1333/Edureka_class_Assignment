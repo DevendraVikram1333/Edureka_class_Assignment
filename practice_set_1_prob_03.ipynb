{
  "nbformat": 4,
  "nbformat_minor": 0,
  "metadata": {
    "colab": {
      "name": "practice_set_1_prob_03.ipynb",
      "provenance": [],
      "collapsed_sections": []
    },
    "kernelspec": {
      "name": "python3",
      "display_name": "Python 3"
    },
    "language_info": {
      "name": "python"
    }
  },
  "cells": [
    {
      "cell_type": "markdown",
      "metadata": {
        "id": "OcE47gHUVnqU"
      },
      "source": [
        "A shopkeeper gives a Discount of 10% if the cost of the purchased quantity is more than 1000. WAP to ask the user quantity. Considering one unit will cost 100,calculate total cost to be paid by user.\n",
        " "
      ]
    },
    {
      "cell_type": "code",
      "metadata": {
        "colab": {
          "base_uri": "https://localhost:8080/"
        },
        "id": "iAjY-nABWKl5",
        "outputId": "1443c5cd-5cfa-4bd4-86a3-3580f8744fa1"
      },
      "source": [
        "cost =100\n",
        "unit_quantity=int(input(\"Enter the quantity:\"))\n",
        "cost_price=unit_quantity*cost\n",
        "if cost_price>1000:\n",
        "  new_cost_price=cost_price-(cost_price*0.1)\n",
        "  print(f\"Customer have to pay total {new_cost_price} Rs.\")\n",
        "else:\n",
        "  print(f\"Customer have to pay total {cost_price} Rs.\")"
      ],
      "execution_count": 2,
      "outputs": [
        {
          "output_type": "stream",
          "name": "stdout",
          "text": [
            "Enter the quantity:5\n",
            "Customer have to pay total 500 Rs.\n"
          ]
        }
      ]
    }
  ]
}