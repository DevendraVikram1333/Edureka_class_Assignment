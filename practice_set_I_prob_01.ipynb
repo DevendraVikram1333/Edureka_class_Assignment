{
  "nbformat": 4,
  "nbformat_minor": 0,
  "metadata": {
    "colab": {
      "name": "practice_set_I_prob_01.ipynb",
      "provenance": [],
      "collapsed_sections": []
    },
    "kernelspec": {
      "name": "python3",
      "display_name": "Python 3"
    },
    "language_info": {
      "name": "python"
    }
  },
  "cells": [
    {
      "cell_type": "code",
      "metadata": {
        "id": "KkbneNp2QxqO"
      },
      "source": [
        "# WAP print to check if the number enter by the user is even or odd \n"
      ],
      "execution_count": null,
      "outputs": []
    },
    {
      "cell_type": "code",
      "metadata": {
        "colab": {
          "base_uri": "https://localhost:8080/"
        },
        "id": "8j9uDb6BSPTG",
        "outputId": "3aff6c5d-6404-4d63-b089-17fee9d69e49"
      },
      "source": [
        "number=int(input(\"enter the number:\"))\n",
        "if number%2==0:\n",
        "  print(f\"Entered number is even number {number}\")\n",
        "else:\n",
        "  print(f\"Entered number is odd number {number}\")"
      ],
      "execution_count": 2,
      "outputs": [
        {
          "output_type": "stream",
          "name": "stdout",
          "text": [
            "enter the number:2\n",
            "Entered number is even number 2\n"
          ]
        }
      ]
    }
  ]
}