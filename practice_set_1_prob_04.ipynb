{
  "nbformat": 4,
  "nbformat_minor": 0,
  "metadata": {
    "colab": {
      "name": "practice_set_1_prob_04.ipynb",
      "provenance": [],
      "collapsed_sections": []
    },
    "kernelspec": {
      "name": "python3",
      "display_name": "Python 3"
    },
    "language_info": {
      "name": "python"
    }
  },
  "cells": [
    {
      "cell_type": "code",
      "metadata": {
        "id": "hgfxYqtwZCOJ"
      },
      "source": [
        ""
      ],
      "execution_count": null,
      "outputs": []
    },
    {
      "cell_type": "markdown",
      "metadata": {
        "id": "TcyOY0sqZR8W"
      },
      "source": [
        "WAP for Grading System for a School result "
      ]
    },
    {
      "cell_type": "code",
      "metadata": {
        "colab": {
          "base_uri": "https://localhost:8080/"
        },
        "id": "8yRBcByWZiJ1",
        "outputId": "fa9bdc3b-9eb6-419d-8344-0107f3002d5d"
      },
      "source": [
        "marks=int(input(\"enter the marks obtained:\"))\n",
        "if marks>80:\n",
        "  print(f\"Congrats you obtain Grade A {marks}\")\n",
        "elif ((marks>60)&(marks<=80)):\n",
        "  print(f\"Congrats you obtain Grade B {marks}\")\n",
        "elif (marks>50)&(marks<=60):\n",
        "  print(f\"your Grade C {marks}\")\n",
        "elif (marks>45)&(marks<=50):\n",
        "  print(f\"your Grade D {marks}\")\n",
        "elif (marks>25)&(marks<=45):\n",
        "  print(f\"Your Grade E {marks}\")\n",
        "else:\n",
        "  print(f\"your Grade F {marks}\")"
      ],
      "execution_count": 11,
      "outputs": [
        {
          "output_type": "stream",
          "name": "stdout",
          "text": [
            "enter the marks obtained:32\n",
            "Your Grade E 32\n"
          ]
        }
      ]
    }
  ]
}