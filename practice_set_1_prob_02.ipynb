{
  "nbformat": 4,
  "nbformat_minor": 0,
  "metadata": {
    "colab": {
      "name": "practice_set_1_prob_02.ipynb",
      "provenance": [],
      "collapsed_sections": []
    },
    "kernelspec": {
      "name": "python3",
      "display_name": "Python 3"
    },
    "language_info": {
      "name": "python"
    }
  },
  "cells": [
    {
      "cell_type": "code",
      "metadata": {
        "id": "t_iWopLmTv0w"
      },
      "source": [
        ""
      ],
      "execution_count": null,
      "outputs": []
    },
    {
      "cell_type": "markdown",
      "metadata": {
        "id": "pwHM79FQT5Nk"
      },
      "source": [
        "WAP using shorthand if else to check which of the two number is greater\n"
      ]
    },
    {
      "cell_type": "code",
      "metadata": {
        "colab": {
          "base_uri": "https://localhost:8080/"
        },
        "id": "DdPZzO3VUIte",
        "outputId": "ea578985-df4a-42b8-e33a-342815c59dd5"
      },
      "source": [
        "num_1=int(input(\"enter the first number:\"))\n",
        "num_2=int(input(\"enter the second number\"))\n",
        "if num_1>num_2:\n",
        "  print(f\"First number that have entered is greater that is {num_1}\")\n",
        "else:\n",
        "  print(f\"Second number that have entered is greater that is {num_2}\")\n"
      ],
      "execution_count": 3,
      "outputs": [
        {
          "output_type": "stream",
          "name": "stdout",
          "text": [
            "enter the first number:22\n",
            "enter the second number2\n",
            "First number that have entered is greater 22\n"
          ]
        }
      ]
    }
  ]
}